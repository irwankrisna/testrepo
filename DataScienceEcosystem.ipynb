{
 "cells": [
  {
   "cell_type": "markdown",
   "id": "cba289c2",
   "metadata": {},
   "source": [
    "# Data Science Tools and Ecosystem"
   ]
  },
  {
   "cell_type": "markdown",
   "id": "f4b6b77e",
   "metadata": {},
   "source": [
    "## In this notebook, Data Science Tools and Ecosystem are summarized."
   ]
  },
  {
   "cell_type": "markdown",
   "id": "6343f324",
   "metadata": {},
   "source": [
    "### Some of the popular languages that Data Scientists use are: <ol>"
   ]
  },
  {
   "cell_type": "markdown",
   "id": "9db5c56a",
   "metadata": {},
   "source": [
    "1. Python"
   ]
  },
  {
   "cell_type": "markdown",
   "id": "d71b99c3",
   "metadata": {},
   "source": [
    "2. R"
   ]
  },
  {
   "cell_type": "markdown",
   "id": "0dec8378",
   "metadata": {},
   "source": [
    "3. Julia"
   ]
  },
  {
   "cell_type": "markdown",
   "id": "092c383d",
   "metadata": {},
   "source": [
    "### Some of the commonly used libraries used by Data Scientists include: <ol>"
   ]
  },
  {
   "cell_type": "markdown",
   "id": "3f3404d4",
   "metadata": {},
   "source": [
    "1. ggplot2"
   ]
  },
  {
   "cell_type": "markdown",
   "id": "660fdd07",
   "metadata": {},
   "source": [
    "2. numpy"
   ]
  },
  {
   "cell_type": "markdown",
   "id": "3173cad6",
   "metadata": {},
   "source": [
    "3. Scikit-learn"
   ]
  },
  {
   "cell_type": "markdown",
   "id": "66c9e588",
   "metadata": {},
   "source": [
    "|Data Science Tools|\n",
    "|------------------|\n",
    "|JupyterLab| \n",
    "|VS Code| \n",
    "|Google Colaboratory| \n"
   ]
  },
  {
   "cell_type": "markdown",
   "id": "03b2855e",
   "metadata": {},
   "source": [
    "### Below are a few examples of evaluating arithmetic expressions in Python"
   ]
  },
  {
   "cell_type": "code",
   "execution_count": 13,
   "id": "3f642801",
   "metadata": {},
   "outputs": [
    {
     "data": {
      "text/plain": [
       "17"
      ]
     },
     "execution_count": 13,
     "metadata": {},
     "output_type": "execute_result"
    }
   ],
   "source": [
    "(3*4)+5"
   ]
  },
  {
   "cell_type": "markdown",
   "id": "fde3f770",
   "metadata": {},
   "source": [
    "This a simple arithmetic expression to mutiply then add integers"
   ]
  },
  {
   "cell_type": "code",
   "execution_count": 14,
   "id": "2283ab99",
   "metadata": {},
   "outputs": [
    {
     "data": {
      "text/plain": [
       "3.3333333333333335"
      ]
     },
     "execution_count": 14,
     "metadata": {},
     "output_type": "execute_result"
    }
   ],
   "source": [
    "200/60"
   ]
  },
  {
   "cell_type": "markdown",
   "id": "ec77b53c",
   "metadata": {},
   "source": [
    "This will convert 200 minutes to hours by diving by 60."
   ]
  },
  {
   "cell_type": "markdown",
   "id": "48278d4a",
   "metadata": {},
   "source": [
    "__Objectives__:<ol>"
   ]
  },
  {
   "cell_type": "markdown",
   "id": "7797a590",
   "metadata": {},
   "source": [
    "1. List popular languages for Data Science"
   ]
  },
  {
   "cell_type": "markdown",
   "id": "058054be",
   "metadata": {},
   "source": [
    "2. List libraries used by Data Scientists"
   ]
  },
  {
   "cell_type": "markdown",
   "id": "85a21e9b",
   "metadata": {},
   "source": [
    "3. List Data Science Tools"
   ]
  },
  {
   "cell_type": "markdown",
   "id": "5bc5b6d6",
   "metadata": {},
   "source": [
    "## Author"
   ]
  },
  {
   "cell_type": "markdown",
   "id": "5156bd81",
   "metadata": {},
   "source": [
    "Irwan Krisna"
   ]
  },
  {
   "cell_type": "code",
   "execution_count": null,
   "id": "8f1505da",
   "metadata": {},
   "outputs": [],
   "source": []
  }
 ],
 "metadata": {
  "kernelspec": {
   "display_name": "Python 3 (ipykernel)",
   "language": "python",
   "name": "python3"
  },
  "language_info": {
   "codemirror_mode": {
    "name": "ipython",
    "version": 3
   },
   "file_extension": ".py",
   "mimetype": "text/x-python",
   "name": "python",
   "nbconvert_exporter": "python",
   "pygments_lexer": "ipython3",
   "version": "3.11.5"
  }
 },
 "nbformat": 4,
 "nbformat_minor": 5
}
